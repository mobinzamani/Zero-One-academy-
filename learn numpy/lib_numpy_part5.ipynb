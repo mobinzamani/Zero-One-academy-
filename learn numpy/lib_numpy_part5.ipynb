{
 "cells": [
  {
   "cell_type": "code",
   "execution_count": 10,
   "id": "0408b9ac",
   "metadata": {},
   "outputs": [],
   "source": [
    "import numpy as np "
   ]
  },
  {
   "cell_type": "code",
   "execution_count": 13,
   "id": "09d90d9e",
   "metadata": {},
   "outputs": [
    {
     "name": "stdout",
     "output_type": "stream",
     "text": [
      "0.5732567092457078\n"
     ]
    }
   ],
   "source": [
    "x = np.random.random()\n",
    "print(x)"
   ]
  },
  {
   "cell_type": "code",
   "execution_count": 16,
   "id": "441a596e",
   "metadata": {},
   "outputs": [
    {
     "name": "stdout",
     "output_type": "stream",
     "text": [
      "[0.02078928 0.56657676 0.82050083 0.76460261 0.32749748]\n"
     ]
    }
   ],
   "source": [
    "y = np.random.random(5)\n",
    "print(y)"
   ]
  },
  {
   "cell_type": "code",
   "execution_count": 19,
   "id": "45cbf57b",
   "metadata": {},
   "outputs": [
    {
     "name": "stdout",
     "output_type": "stream",
     "text": [
      "[[0.59528604 0.34441256 0.84190929 0.58444021 0.86106235]\n",
      " [0.60571364 0.17438558 0.3990117  0.97220018 0.58605741]\n",
      " [0.97275937 0.98237671 0.97614151 0.40084486 0.7098006 ]\n",
      " [0.77817496 0.69781503 0.66862351 0.34907682 0.19004547]\n",
      " [0.66621263 0.04254115 0.62294299 0.79931446 0.43041933]]\n"
     ]
    }
   ],
   "source": [
    "array_random = np.random.random((5, 5))\n",
    "print(array_random)"
   ]
  },
  {
   "cell_type": "code",
   "execution_count": 20,
   "id": "ad396dcd",
   "metadata": {},
   "outputs": [
    {
     "name": "stdout",
     "output_type": "stream",
     "text": [
      "[0.59758621 0.01139068 0.85515612]\n"
     ]
    }
   ],
   "source": [
    "x1 = np.random.rand(3)\n",
    "print(x1)"
   ]
  },
  {
   "cell_type": "code",
   "execution_count": 22,
   "id": "1ed4603a",
   "metadata": {},
   "outputs": [
    {
     "name": "stdout",
     "output_type": "stream",
     "text": [
      "[[0.1138555  0.3256641  0.44474545 0.73676854]\n",
      " [0.89109925 0.65228945 0.94847248 0.27154953]\n",
      " [0.05509153 0.32626259 0.25381824 0.41299014]]\n"
     ]
    }
   ],
   "source": [
    "x2 = np.random.rand(3, 4)\n",
    "print(x2)"
   ]
  },
  {
   "cell_type": "code",
   "execution_count": 26,
   "id": "27b939cd",
   "metadata": {},
   "outputs": [
    {
     "name": "stdout",
     "output_type": "stream",
     "text": [
      "-13\n"
     ]
    }
   ],
   "source": [
    "x3 = np.random.randint(-20, 20)\n",
    "print(x3)"
   ]
  },
  {
   "cell_type": "code",
   "execution_count": 29,
   "id": "76d1fac6",
   "metadata": {},
   "outputs": [
    {
     "name": "stdout",
     "output_type": "stream",
     "text": [
      "[[-33 -87 -80  -7  16]\n",
      " [-26  74  99  -4  54]\n",
      " [-26  27 -90 -23  51]\n",
      " [-31  -8 -51  62  86]\n",
      " [-97 -53 -68 -75  66]]\n"
     ]
    }
   ],
   "source": [
    "x4 = np.random.randint(-100, 100, size=(5,5))\n",
    "print(x4)"
   ]
  },
  {
   "cell_type": "code",
   "execution_count": 33,
   "id": "36d061c5",
   "metadata": {},
   "outputs": [
    {
     "name": "stdout",
     "output_type": "stream",
     "text": [
      "[['b' 'c' 'c' 'b' 'e']\n",
      " ['b' 'b' 'b' 'c' 'b']\n",
      " ['b' 'b' 'c' 'a' 'b']\n",
      " ['c' 'b' 'b' 'a' 'e']\n",
      " ['e' 'b' 'b' 'b' 'b']\n",
      " ['c' 'c' 'a' 'b' 'a']]\n"
     ]
    }
   ],
   "source": [
    "x5 = np.random.choice([\"a\", \"b\", \"c\", \"d\", \"e\"], p = [0.1, 0.5, 0.3, 0, 0.1], size = (6, 5))\n",
    "print(x5)"
   ]
  },
  {
   "cell_type": "code",
   "execution_count": null,
   "id": "226db423",
   "metadata": {},
   "outputs": [],
   "source": []
  }
 ],
 "metadata": {
  "kernelspec": {
   "display_name": "Python 3 (ipykernel)",
   "language": "python",
   "name": "python3"
  },
  "language_info": {
   "codemirror_mode": {
    "name": "ipython",
    "version": 3
   },
   "file_extension": ".py",
   "mimetype": "text/x-python",
   "name": "python",
   "nbconvert_exporter": "python",
   "pygments_lexer": "ipython3",
   "version": "3.11.5"
  }
 },
 "nbformat": 4,
 "nbformat_minor": 5
}
