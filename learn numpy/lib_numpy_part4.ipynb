{
 "cells": [
  {
   "cell_type": "code",
   "execution_count": 6,
   "id": "58e23d29",
   "metadata": {},
   "outputs": [],
   "source": [
    "import numpy as np"
   ]
  },
  {
   "cell_type": "code",
   "execution_count": 9,
   "id": "657a489e",
   "metadata": {},
   "outputs": [
    {
     "name": "stdout",
     "output_type": "stream",
     "text": [
      "[[2.  4. ]\n",
      " [5.7 5.1]]\n",
      "+-+-+-+-+-\n",
      "[[ 1  4]\n",
      " [ 8 10]]\n",
      "+-+-+-+-+-\n",
      "[[ 2.  16. ]\n",
      " [45.6 51. ]]\n",
      "+-+-+-+-+-\n",
      "[[34.  48. ]\n",
      " [46.5 73.8]]\n"
     ]
    }
   ],
   "source": [
    "x = np.array([[2, 4], [5.7, 5.1]])\n",
    "y = np.array([[1, 4], [8, 10]])\n",
    "print(x)\n",
    "print(\"+-+-+-+-+-\")\n",
    "print(y)\n",
    "print(\"+-+-+-+-+-\")\n",
    "print(np.multiply(x,y)) # --> *\n",
    "print(\"+-+-+-+-+-\")\n",
    "print(np.matmul(x,y))"
   ]
  },
  {
   "cell_type": "code",
   "execution_count": 11,
   "id": "a1dc5ff8",
   "metadata": {},
   "outputs": [
    {
     "name": "stdout",
     "output_type": "stream",
     "text": [
      "[[5.         6.        ]\n",
      " [2.         5.29150262]]\n"
     ]
    }
   ],
   "source": [
    "d = np.array([[25, 36], [4, 28]])\n",
    "print(np.sqrt(d))"
   ]
  },
  {
   "cell_type": "code",
   "execution_count": 12,
   "id": "109e3da3",
   "metadata": {},
   "outputs": [
    {
     "name": "stdout",
     "output_type": "stream",
     "text": [
      "[[32.  3.]\n",
      " [ 4.  2.]]\n"
     ]
    }
   ],
   "source": [
    "o = np.array([[-32, 3], [-4, -2]])\n",
    "print(np.fabs(o))"
   ]
  },
  {
   "cell_type": "code",
   "execution_count": 14,
   "id": "e53bc2da",
   "metadata": {},
   "outputs": [
    {
     "name": "stdout",
     "output_type": "stream",
     "text": [
      "[[0. 0. 0. 0. 0. 0.]\n",
      " [0. 0. 0. 0. 0. 0.]\n",
      " [0. 0. 0. 0. 0. 0.]\n",
      " [0. 0. 0. 0. 0. 0.]\n",
      " [0. 0. 0. 0. 0. 0.]\n",
      " [0. 0. 0. 0. 0. 0.]\n",
      " [0. 0. 0. 0. 0. 0.]\n",
      " [0. 0. 0. 0. 0. 0.]\n",
      " [0. 0. 0. 0. 0. 0.]\n",
      " [0. 0. 0. 0. 0. 0.]]\n"
     ]
    }
   ],
   "source": [
    "t = np.zeros((10, 6))\n",
    "print(t)"
   ]
  },
  {
   "cell_type": "code",
   "execution_count": 16,
   "id": "87b42be1",
   "metadata": {},
   "outputs": [
    {
     "name": "stdout",
     "output_type": "stream",
     "text": [
      "[[1. 1. 1. 1. 1. 1.]\n",
      " [1. 1. 1. 1. 1. 1.]\n",
      " [1. 1. 1. 1. 1. 1.]\n",
      " [1. 1. 1. 1. 1. 1.]\n",
      " [1. 1. 1. 1. 1. 1.]\n",
      " [1. 1. 1. 1. 1. 1.]\n",
      " [1. 1. 1. 1. 1. 1.]\n",
      " [1. 1. 1. 1. 1. 1.]\n",
      " [1. 1. 1. 1. 1. 1.]\n",
      " [1. 1. 1. 1. 1. 1.]]\n"
     ]
    }
   ],
   "source": [
    "t1 = np.ones((10, 6))\n",
    "print(t1)"
   ]
  },
  {
   "cell_type": "code",
   "execution_count": 19,
   "id": "104b695c",
   "metadata": {},
   "outputs": [
    {
     "name": "stdout",
     "output_type": "stream",
     "text": [
      "[[9 9 9 9 9 9]\n",
      " [9 9 9 9 9 9]\n",
      " [9 9 9 9 9 9]\n",
      " [9 9 9 9 9 9]\n",
      " [9 9 9 9 9 9]\n",
      " [9 9 9 9 9 9]\n",
      " [9 9 9 9 9 9]\n",
      " [9 9 9 9 9 9]\n",
      " [9 9 9 9 9 9]\n",
      " [9 9 9 9 9 9]]\n"
     ]
    }
   ],
   "source": [
    "t2 = np.full((10, 6), 9)\n",
    "print(t2)"
   ]
  },
  {
   "cell_type": "code",
   "execution_count": 21,
   "id": "b0745d5b",
   "metadata": {},
   "outputs": [
    {
     "name": "stdout",
     "output_type": "stream",
     "text": [
      "[[1. 0. 0. 0. 0. 0. 0. 0. 0.]\n",
      " [0. 1. 0. 0. 0. 0. 0. 0. 0.]\n",
      " [0. 0. 1. 0. 0. 0. 0. 0. 0.]\n",
      " [0. 0. 0. 1. 0. 0. 0. 0. 0.]\n",
      " [0. 0. 0. 0. 1. 0. 0. 0. 0.]\n",
      " [0. 0. 0. 0. 0. 1. 0. 0. 0.]\n",
      " [0. 0. 0. 0. 0. 0. 1. 0. 0.]\n",
      " [0. 0. 0. 0. 0. 0. 0. 1. 0.]\n",
      " [0. 0. 0. 0. 0. 0. 0. 0. 1.]]\n"
     ]
    }
   ],
   "source": [
    "t3 = np.eye(9)\n",
    "print(t3)"
   ]
  },
  {
   "cell_type": "code",
   "execution_count": null,
   "id": "fc4a2304",
   "metadata": {},
   "outputs": [],
   "source": []
  }
 ],
 "metadata": {
  "kernelspec": {
   "display_name": "Python 3 (ipykernel)",
   "language": "python",
   "name": "python3"
  },
  "language_info": {
   "codemirror_mode": {
    "name": "ipython",
    "version": 3
   },
   "file_extension": ".py",
   "mimetype": "text/x-python",
   "name": "python",
   "nbconvert_exporter": "python",
   "pygments_lexer": "ipython3",
   "version": "3.11.5"
  }
 },
 "nbformat": 4,
 "nbformat_minor": 5
}
