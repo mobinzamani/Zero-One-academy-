{
 "cells": [
  {
   "cell_type": "code",
   "execution_count": 1,
   "id": "3b86c29f",
   "metadata": {},
   "outputs": [],
   "source": [
    "import numpy as np "
   ]
  },
  {
   "cell_type": "code",
   "execution_count": 4,
   "id": "ddec0797",
   "metadata": {},
   "outputs": [],
   "source": [
    "data = np.array([1, 2, 3, 4, 6, 8, 10, 5, 5, 0])"
   ]
  },
  {
   "cell_type": "code",
   "execution_count": 5,
   "id": "1de795a5",
   "metadata": {},
   "outputs": [
    {
     "name": "stdout",
     "output_type": "stream",
     "text": [
      "0\n"
     ]
    }
   ],
   "source": [
    "min_ = np.min(data)\n",
    "print(min_)"
   ]
  },
  {
   "cell_type": "code",
   "execution_count": 6,
   "id": "64393f68",
   "metadata": {},
   "outputs": [
    {
     "name": "stdout",
     "output_type": "stream",
     "text": [
      "10\n"
     ]
    }
   ],
   "source": [
    "max_ = np.max(data)\n",
    "print(max_)"
   ]
  },
  {
   "cell_type": "code",
   "execution_count": 7,
   "id": "d06a715e",
   "metadata": {},
   "outputs": [
    {
     "name": "stdout",
     "output_type": "stream",
     "text": [
      "44\n"
     ]
    }
   ],
   "source": [
    "sum_ = np.sum(data)\n",
    "print(sum_)"
   ]
  },
  {
   "cell_type": "code",
   "execution_count": 9,
   "id": "08ca4c0e",
   "metadata": {},
   "outputs": [
    {
     "name": "stdout",
     "output_type": "stream",
     "text": [
      "8.64\n"
     ]
    }
   ],
   "source": [
    "var_ = np.var(data)\n",
    "print(var_)"
   ]
  },
  {
   "cell_type": "code",
   "execution_count": 10,
   "id": "c2a2eae4",
   "metadata": {},
   "outputs": [
    {
     "name": "stdout",
     "output_type": "stream",
     "text": [
      "4.4\n"
     ]
    }
   ],
   "source": [
    "mean_ = np.mean(data)\n",
    "print(mean_)"
   ]
  },
  {
   "cell_type": "code",
   "execution_count": 14,
   "id": "c0e39566",
   "metadata": {},
   "outputs": [
    {
     "name": "stdout",
     "output_type": "stream",
     "text": [
      "4.5\n"
     ]
    }
   ],
   "source": [
    "median_ = np.median(data)\n",
    "print(median_)"
   ]
  },
  {
   "cell_type": "code",
   "execution_count": 15,
   "id": "1fa15891",
   "metadata": {},
   "outputs": [
    {
     "name": "stdout",
     "output_type": "stream",
     "text": [
      "2.939387691339814\n"
     ]
    }
   ],
   "source": [
    "std_ = np.std(data)\n",
    "print(std_)"
   ]
  },
  {
   "cell_type": "code",
   "execution_count": 16,
   "id": "0b85c057",
   "metadata": {},
   "outputs": [
    {
     "name": "stdout",
     "output_type": "stream",
     "text": [
      "[ 0  1  2  3  4  5  5  6  8 10]\n"
     ]
    }
   ],
   "source": [
    "sort_ = np.sort(data)\n",
    "print(sort_)"
   ]
  },
  {
   "cell_type": "code",
   "execution_count": null,
   "id": "ac539529",
   "metadata": {},
   "outputs": [],
   "source": []
  }
 ],
 "metadata": {
  "kernelspec": {
   "display_name": "Python 3 (ipykernel)",
   "language": "python",
   "name": "python3"
  },
  "language_info": {
   "codemirror_mode": {
    "name": "ipython",
    "version": 3
   },
   "file_extension": ".py",
   "mimetype": "text/x-python",
   "name": "python",
   "nbconvert_exporter": "python",
   "pygments_lexer": "ipython3",
   "version": "3.11.5"
  }
 },
 "nbformat": 4,
 "nbformat_minor": 5
}
