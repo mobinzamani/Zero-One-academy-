{
 "cells": [
  {
   "cell_type": "code",
   "execution_count": 2,
   "id": "a3940209",
   "metadata": {},
   "outputs": [],
   "source": [
    "import numpy as np "
   ]
  },
  {
   "cell_type": "code",
   "execution_count": 2,
   "id": "8f207b25",
   "metadata": {},
   "outputs": [
    {
     "name": "stdout",
     "output_type": "stream",
     "text": [
      "[1 2 3 4]\n",
      "=========\n",
      "[[1 2]\n",
      " [3 4]]\n",
      "=========\n",
      "[[[ 1  2  3]\n",
      "  [ 4  5  6]]\n",
      "\n",
      " [[ 7  8  9]\n",
      "  [10 11 12]]]\n"
     ]
    }
   ],
   "source": [
    "data = np.array([1, 2, 3, 4])\n",
    "data2 = np.array([[1, 2], [3, 4]])\n",
    "data3 = np.array([[[1, 2, 3], [4, 5, 6]], [[7, 8, 9], [10, 11, 12]]])\n",
    "print(data)\n",
    "print(\"=========\")\n",
    "print(data2)\n",
    "print(\"=========\")\n",
    "print(data3)"
   ]
  },
  {
   "cell_type": "code",
   "execution_count": 7,
   "id": "2b46504b",
   "metadata": {},
   "outputs": [
    {
     "name": "stdout",
     "output_type": "stream",
     "text": [
      "[[6 5]\n",
      " [6 9]\n",
      " [8 8]]\n",
      "=========\n",
      "[[-4 -3]\n",
      " [-2 -5]\n",
      " [-2 -2]]\n",
      "=========\n",
      "[[ 5  4]\n",
      " [ 8 14]\n",
      " [15 15]]\n",
      "=========\n",
      "[[0.2        0.25      ]\n",
      " [0.5        0.28571429]\n",
      " [0.6        0.6       ]]\n",
      "=========\n",
      "[[  1   1]\n",
      " [ 16 128]\n",
      " [243 243]]\n",
      "=========\n"
     ]
    }
   ],
   "source": [
    "x = np.array([[1,1], [2,2], [3,3]])\n",
    "y = np.array([[5,4], [4,7], [5,5]])\n",
    "print(x+y)\n",
    "print(\"=========\")\n",
    "print(x-y)\n",
    "print(\"=========\")\n",
    "print(x*y)\n",
    "print(\"=========\")\n",
    "print(x/y)\n",
    "print(\"=========\")\n",
    "print(x**y)\n",
    "print(\"=========\")"
   ]
  },
  {
   "cell_type": "code",
   "execution_count": 7,
   "id": "5eef0827",
   "metadata": {},
   "outputs": [
    {
     "name": "stdout",
     "output_type": "stream",
     "text": [
      "[[ 1  2  3  4]\n",
      " [ 5  6  7  8]\n",
      " [ 9 10 11 12]]\n"
     ]
    }
   ],
   "source": [
    "t = np.array([[1, 2, 3, 4], [5, 6, 7, 8], [9, 10, 11, 12]])\n",
    "print(t)"
   ]
  },
  {
   "cell_type": "code",
   "execution_count": 4,
   "id": "3a21aaa9",
   "metadata": {},
   "outputs": [
    {
     "data": {
      "text/plain": [
       "numpy.ndarray"
      ]
     },
     "execution_count": 4,
     "metadata": {},
     "output_type": "execute_result"
    }
   ],
   "source": [
    "type(t)"
   ]
  },
  {
   "cell_type": "code",
   "execution_count": 5,
   "id": "5844754b",
   "metadata": {},
   "outputs": [
    {
     "data": {
      "text/plain": [
       "2"
      ]
     },
     "execution_count": 5,
     "metadata": {},
     "output_type": "execute_result"
    }
   ],
   "source": [
    "t.ndim"
   ]
  },
  {
   "cell_type": "code",
   "execution_count": 6,
   "id": "6d1b71d9",
   "metadata": {},
   "outputs": [
    {
     "data": {
      "text/plain": [
       "(3, 4)"
      ]
     },
     "execution_count": 6,
     "metadata": {},
     "output_type": "execute_result"
    }
   ],
   "source": [
    "t.shape"
   ]
  },
  {
   "cell_type": "code",
   "execution_count": 8,
   "id": "594c6a52",
   "metadata": {},
   "outputs": [
    {
     "data": {
      "text/plain": [
       "12"
      ]
     },
     "execution_count": 8,
     "metadata": {},
     "output_type": "execute_result"
    }
   ],
   "source": [
    "t.size"
   ]
  },
  {
   "cell_type": "code",
   "execution_count": 9,
   "id": "0cf32937",
   "metadata": {},
   "outputs": [],
   "source": [
    "data3 = np.array([[[1, 2, 3], [4, 5, 6]], [[7, 8, 9], [10, 11, 12]]])"
   ]
  },
  {
   "cell_type": "code",
   "execution_count": 10,
   "id": "698b53c9",
   "metadata": {},
   "outputs": [
    {
     "data": {
      "text/plain": [
       "3"
      ]
     },
     "execution_count": 10,
     "metadata": {},
     "output_type": "execute_result"
    }
   ],
   "source": [
    "data3.ndim"
   ]
  },
  {
   "cell_type": "code",
   "execution_count": 12,
   "id": "1a33bbee",
   "metadata": {},
   "outputs": [
    {
     "data": {
      "text/plain": [
       "(2, 2, 3)"
      ]
     },
     "execution_count": 12,
     "metadata": {},
     "output_type": "execute_result"
    }
   ],
   "source": [
    "data3.shape"
   ]
  },
  {
   "cell_type": "code",
   "execution_count": null,
   "id": "ba0e1b50",
   "metadata": {},
   "outputs": [],
   "source": []
  }
 ],
 "metadata": {
  "kernelspec": {
   "display_name": "Python 3 (ipykernel)",
   "language": "python",
   "name": "python3"
  },
  "language_info": {
   "codemirror_mode": {
    "name": "ipython",
    "version": 3
   },
   "file_extension": ".py",
   "mimetype": "text/x-python",
   "name": "python",
   "nbconvert_exporter": "python",
   "pygments_lexer": "ipython3",
   "version": "3.11.5"
  }
 },
 "nbformat": 4,
 "nbformat_minor": 5
}
